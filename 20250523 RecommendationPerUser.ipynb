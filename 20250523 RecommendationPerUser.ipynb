{
  "nbformat": 4,
  "nbformat_minor": 0,
  "metadata": {
    "colab": {
      "provenance": []
    },
    "kernelspec": {
      "name": "python3",
      "display_name": "Python 3"
    },
    "language_info": {
      "name": "python"
    }
  },
  "cells": [
    {
      "cell_type": "code",
      "source": [
        "import pandas as pd\n",
        "import numpy as np\n",
        "from sklearn.metrics.pairwise import cosine_similarity\n",
        "import chardet"
      ],
      "metadata": {
        "id": "52HtgkYFLM6E"
      },
      "execution_count": 3,
      "outputs": []
    },
    {
      "cell_type": "code",
      "source": [
        "# Load CSV files\n",
        "customers = pd.read_csv('/content/drive/MyDrive/Sprints/Eyouth/ecommerce/customers.csv')\n",
        "products = pd.read_csv('/content/drive/MyDrive/Sprints/Eyouth/ecommerce/products.csv')\n",
        "orders = pd.read_csv('/content/drive/MyDrive/Sprints/Eyouth/ecommerce/orders.csv')\n",
        "order_details = pd.read_csv('/content/drive/MyDrive/Sprints/Eyouth/ecommerce/order_details.csv')\n",
        "wishlists = pd.read_csv('/content/drive/MyDrive/Sprints/Eyouth/ecommerce/wishlists.csv')"
      ],
      "metadata": {
        "id": "fs-mNeYYLVTU"
      },
      "execution_count": 12,
      "outputs": []
    },
    {
      "cell_type": "code",
      "source": [
        "import pandas as pd\n",
        "import chardet\n",
        "\n",
        "# Function to detect file encoding\n",
        "def detect_encoding(file_path):\n",
        "    with open(file_path, 'rb') as file:\n",
        "        result = chardet.detect(file.read(10000))  # Read first 10000 bytes\n",
        "    return result['encoding']\n",
        "\n",
        "# File paths\n",
        "file_paths = {\n",
        "    'customers': '/content/drive/MyDrive/Sprints/Eyouth/ecommerce/customers.csv',\n",
        "    'products': '/content/drive/MyDrive/Sprints/Eyouth/ecommerce/products.csv',\n",
        "    'orders': '/content/drive/MyDrive/Sprints/Eyouth/ecommerce/orders.csv',\n",
        "    'order_details': '/content/drive/MyDrive/Sprints/Eyouth/ecommerce/order_details.csv',\n",
        "    'wishlists': '/content/drive/MyDrive/Sprints/Eyouth/ecommerce/wishlists.csv'\n",
        "}"
      ],
      "metadata": {
        "id": "VrmpbKSSOx0N"
      },
      "execution_count": 13,
      "outputs": []
    },
    {
      "cell_type": "code",
      "source": [
        "# Load CSVs with detected or fallback encoding\n",
        "dataframes = {}\n",
        "for name, path in file_paths.items():\n",
        "    try:\n",
        "        # Try UTF-8 first\n",
        "        df = pd.read_csv(path, encoding='utf-8')\n",
        "    except UnicodeDecodeError:\n",
        "        # Detect encoding if UTF-8 fails\n",
        "        encoding = detect_encoding(path)\n",
        "        print(f\"Detected encoding for {name}.csv: {encoding}\")\n",
        "        try:\n",
        "            df = pd.read_csv(path, encoding=encoding)\n",
        "        except Exception as e:\n",
        "            # Fallback to utf-8-sig or latin1\n",
        "            print(f\"Failed with detected encoding for {name}.csv, trying utf-8-sig: {e}\")\n",
        "            df = pd.read_csv(path, encoding='utf-8-sig')\n",
        "    dataframes[name] = df\n",
        "    print(f\"Loaded {name}.csv with shape: {df.shape}\")\n",
        "\n",
        "# Assign DataFrames\n",
        "customers = dataframes['customers']\n",
        "products = dataframes['products']\n",
        "orders = dataframes['orders']\n",
        "order_details = dataframes['order_details']\n",
        "wishlists = dataframes['wishlists']"
      ],
      "metadata": {
        "colab": {
          "base_uri": "https://localhost:8080/"
        },
        "id": "seQAJ3ZuPBZE",
        "outputId": "4623fed4-eff0-4d24-d1db-9a0d32008df6"
      },
      "execution_count": 14,
      "outputs": [
        {
          "output_type": "stream",
          "name": "stdout",
          "text": [
            "Loaded customers.csv with shape: (250, 7)\n",
            "Loaded products.csv with shape: (600, 8)\n",
            "Loaded orders.csv with shape: (10200, 5)\n",
            "Loaded order_details.csv with shape: (30668, 5)\n",
            "Loaded wishlists.csv with shape: (1007, 4)\n"
          ]
        }
      ]
    },
    {
      "cell_type": "code",
      "source": [
        "orders.info()\n",
        "order_details.info()\n",
        "products.info()\n",
        "customers.info()"
      ],
      "metadata": {
        "colab": {
          "base_uri": "https://localhost:8080/"
        },
        "id": "LfzofNLHXTQn",
        "outputId": "0e2bd935-477c-48d7-e3c6-e5968e6e3ae1"
      },
      "execution_count": 15,
      "outputs": [
        {
          "output_type": "stream",
          "name": "stdout",
          "text": [
            "<class 'pandas.core.frame.DataFrame'>\n",
            "RangeIndex: 10200 entries, 0 to 10199\n",
            "Data columns (total 5 columns):\n",
            " #   Column        Non-Null Count  Dtype  \n",
            "---  ------        --------------  -----  \n",
            " 0   id            10200 non-null  int64  \n",
            " 1   customer_id   10200 non-null  int64  \n",
            " 2   order_date    10200 non-null  object \n",
            " 3   total_amount  10200 non-null  float64\n",
            " 4   status        10200 non-null  object \n",
            "dtypes: float64(1), int64(2), object(2)\n",
            "memory usage: 398.6+ KB\n",
            "<class 'pandas.core.frame.DataFrame'>\n",
            "RangeIndex: 30668 entries, 0 to 30667\n",
            "Data columns (total 5 columns):\n",
            " #   Column      Non-Null Count  Dtype  \n",
            "---  ------      --------------  -----  \n",
            " 0   id          30668 non-null  int64  \n",
            " 1   order_id    30668 non-null  int64  \n",
            " 2   product_id  30668 non-null  int64  \n",
            " 3   quantity    30668 non-null  int64  \n",
            " 4   unit_price  30668 non-null  float64\n",
            "dtypes: float64(1), int64(4)\n",
            "memory usage: 1.2 MB\n",
            "<class 'pandas.core.frame.DataFrame'>\n",
            "RangeIndex: 600 entries, 0 to 599\n",
            "Data columns (total 8 columns):\n",
            " #   Column          Non-Null Count  Dtype  \n",
            "---  ------          --------------  -----  \n",
            " 0   id              600 non-null    int64  \n",
            " 1   name            600 non-null    object \n",
            " 2   description     600 non-null    object \n",
            " 3   price           600 non-null    float64\n",
            " 4   category_id     600 non-null    int64  \n",
            " 5   supplier_id     600 non-null    int64  \n",
            " 6   sku             600 non-null    object \n",
            " 7   stock_quantity  600 non-null    int64  \n",
            "dtypes: float64(1), int64(4), object(3)\n",
            "memory usage: 37.6+ KB\n",
            "<class 'pandas.core.frame.DataFrame'>\n",
            "RangeIndex: 250 entries, 0 to 249\n",
            "Data columns (total 7 columns):\n",
            " #   Column             Non-Null Count  Dtype \n",
            "---  ------             --------------  ----- \n",
            " 0   id                 250 non-null    int64 \n",
            " 1   first_name         250 non-null    object\n",
            " 2   last_name          250 non-null    object\n",
            " 3   email              250 non-null    object\n",
            " 4   phone              250 non-null    object\n",
            " 5   address            250 non-null    object\n",
            " 6   registration_date  250 non-null    object\n",
            "dtypes: int64(1), object(6)\n",
            "memory usage: 13.8+ KB\n"
          ]
        }
      ]
    },
    {
      "cell_type": "code",
      "source": [
        "# Validate required columns\n",
        "required_columns = {\n",
        "    'customers': ['id', 'first_name', 'last_name', 'email', 'phone', 'address', 'registration_date'],\n",
        "    'products': ['id', 'name', 'price', 'description', 'category_id', 'supplier_id', 'sku', 'stock_quantity'],\n",
        "    'orders': ['id', 'customer_id', 'order_date', 'total_amount', 'status'],\n",
        "    'order_details': ['id', 'order_id', 'product_id', 'quantity', 'unit_price'],\n",
        "    'wishlists': ['customer_id', 'product_id']  # Assuming minimal columns for wishlists\n",
        "}\n",
        "for name, df in dataframes.items():\n",
        "    missing_cols = [col for col in required_columns[name] if col not in df.columns]\n",
        "    if missing_cols:\n",
        "        raise ValueError(f\"Missing columns in {name}.csv: {missing_cols}\")"
      ],
      "metadata": {
        "id": "a2iVXAWtPED7"
      },
      "execution_count": 16,
      "outputs": []
    },
    {
      "cell_type": "code",
      "source": [
        "# Check for unmatched IDs before merging\n",
        "unmatched_order_ids = set(order_details['order_id']) - set(orders['id'])\n",
        "if unmatched_order_ids:\n",
        "    print(f\"Warning: {len(unmatched_order_ids)} order_ids in order_details not found in orders\")\n",
        "unmatched_product_ids = set(order_details['product_id']) - set(products['id'])\n",
        "if unmatched_product_ids:\n",
        "    print(f\"Warning: {len(unmatched_product_ids)} product_ids in order_details not found in products\")\n",
        "\n",
        "# Data preprocessing: Merge Orders and OrderDetails\n",
        "purchase_data = order_details.merge(\n",
        "    orders,\n",
        "    left_on='order_id',\n",
        "    right_on='id',\n",
        "    suffixes=('_detail', '_order')\n",
        ").merge(\n",
        "    products,\n",
        "    left_on='product_id',\n",
        "    right_on='id',\n",
        "    suffixes=('', '_product')\n",
        ")\n",
        "purchase_data = purchase_data[['customer_id', 'product_id', 'quantity']]"
      ],
      "metadata": {
        "id": "RJKniU54XMGA"
      },
      "execution_count": 17,
      "outputs": []
    },
    {
      "cell_type": "code",
      "source": [
        "# Check for NaN in purchase_data\n",
        "print(f\"NaN counts in purchase_data:\\n{purchase_data.isna().sum()}\")\n",
        "if purchase_data.isna().any().any():\n",
        "    print(\"Filling NaN in purchase_data.quantity with 0\")\n",
        "    purchase_data['quantity'] = purchase_data['quantity'].fillna(0)\n",
        "\n",
        "# Create user-item matrix\n",
        "user_item_matrix = purchase_data.pivot_table(\n",
        "    index='customer_id',\n",
        "    columns='product_id',\n",
        "    values='quantity',\n",
        "    fill_value=0,\n",
        "    aggfunc='sum'  # Sum quantities for duplicate entries\n",
        ")"
      ],
      "metadata": {
        "colab": {
          "base_uri": "https://localhost:8080/"
        },
        "id": "i3Fe1G3tq5ZQ",
        "outputId": "3b3d567c-4778-45af-d14e-153fd3b5d468"
      },
      "execution_count": 18,
      "outputs": [
        {
          "output_type": "stream",
          "name": "stdout",
          "text": [
            "NaN counts in purchase_data:\n",
            "customer_id    0\n",
            "product_id     0\n",
            "quantity       0\n",
            "dtype: int64\n"
          ]
        }
      ]
    },
    {
      "cell_type": "code",
      "source": [
        "# Check for NaN in user_item_matrix\n",
        "print(f\"NaN counts in user_item_matrix:\\n{user_item_matrix.isna().sum().sum()}\")\n",
        "if user_item_matrix.isna().any().any():\n",
        "    print(\"Filling NaN in user_item_matrix with 0\")\n",
        "    user_item_matrix = user_item_matrix.fillna(0)\n",
        "\n",
        "# Incorporate wishlist data\n",
        "wishlist_data = wishlists[['customer_id', 'product_id']].copy()\n",
        "wishlist_data['quantity'] = 1  # Weight of 1 for wishlist items\n",
        "print(f\"NaN counts in wishlist_data:\\n{wishlist_data.isna().sum()}\")\n",
        "if wishlist_data.isna().any().any():\n",
        "    print(\"Dropping NaN rows in wishlist_data\")\n",
        "    wishlist_data = wishlist_data.dropna()"
      ],
      "metadata": {
        "colab": {
          "base_uri": "https://localhost:8080/"
        },
        "id": "0YhTOaluq8y6",
        "outputId": "00bbe43f-c576-4422-a078-73928ded1b4b"
      },
      "execution_count": 19,
      "outputs": [
        {
          "output_type": "stream",
          "name": "stdout",
          "text": [
            "NaN counts in user_item_matrix:\n",
            "0\n",
            "NaN counts in wishlist_data:\n",
            "customer_id    0\n",
            "product_id     0\n",
            "quantity       0\n",
            "dtype: int64\n"
          ]
        }
      ]
    },
    {
      "cell_type": "code",
      "source": [
        "wishlist_matrix = wishlist_data.pivot_table(\n",
        "    index='customer_id',\n",
        "    columns='product_id',\n",
        "    values='quantity',\n",
        "    fill_value=0,\n",
        "    aggfunc='sum'\n",
        ")"
      ],
      "metadata": {
        "id": "QoJXuYF2rAHs"
      },
      "execution_count": 20,
      "outputs": []
    },
    {
      "cell_type": "code",
      "source": [
        "# Incorporate wishlist data (add 1 to matrix for wishlist items)\n",
        "wishlist_data = wishlists[['customer_id', 'product_id']].copy()\n",
        "wishlist_data['quantity'] = 1  # Assume wishlist items have a weight of 1\n",
        "wishlist_matrix = wishlist_data.pivot_table(\n",
        "    index='customer_id',\n",
        "    columns='product_id',\n",
        "    values='quantity',\n",
        "    fill_value=0\n",
        ")"
      ],
      "metadata": {
        "id": "VuRH-fTpqZa4"
      },
      "execution_count": 10,
      "outputs": []
    },
    {
      "cell_type": "code",
      "source": [
        "# Combine purchase and wishlist matrices\n",
        "user_item_matrix = user_item_matrix.add(wishlist_matrix, fill_value=0)\n",
        "\n",
        "# Final check for NaN in combined matrix\n",
        "print(f\"NaN counts in final user_item_matrix:\\n{user_item_matrix.isna().sum().sum()}\")\n",
        "if user_item_matrix.isna().any().any():\n",
        "    print(\"Filling NaN in final user_item_matrix with 0\")\n",
        "    user_item_matrix = user_item_matrix.fillna(0)\n",
        "\n",
        "# Compute item-item similarity using cosine similarity\n",
        "item_similarity = cosine_similarity(user_item_matrix.T)\n",
        "item_similarity_df = pd.DataFrame(\n",
        "    item_similarity,\n",
        "    index=user_item_matrix.columns,\n",
        "    columns=user_item_matrix.columns\n",
        ")"
      ],
      "metadata": {
        "colab": {
          "base_uri": "https://localhost:8080/"
        },
        "id": "Dsf3UBi_qd4j",
        "outputId": "9a7164b1-4639-4f9f-826d-3fb06c809769"
      },
      "execution_count": 21,
      "outputs": [
        {
          "output_type": "stream",
          "name": "stdout",
          "text": [
            "NaN counts in final user_item_matrix:\n",
            "148\n",
            "Filling NaN in final user_item_matrix with 0\n"
          ]
        }
      ]
    },
    {
      "cell_type": "code",
      "source": [
        "# Recommendation function\n",
        "def recommend_products(customer_id, n_recommendations=5):\n",
        "    if customer_id not in user_item_matrix.index:\n",
        "        return f\"Customer ID {customer_id} not found.\"\n",
        "\n",
        "    # Get customer's purchased/wishlisted products\n",
        "    customer_purchases = user_item_matrix.loc[customer_id]\n",
        "    purchased_products = customer_purchases[customer_purchases > 0].index\n",
        "\n",
        "    # Calculate recommendation scores\n",
        "    scores = item_similarity_df[purchased_products].sum(axis=1)\n",
        "    scores = scores.sort_values(ascending=False)\n",
        "\n",
        "    # Exclude already purchased/wishlisted products\n",
        "    recommended_product_ids = scores.index[~scores.index.isin(purchased_products)][:n_recommendations]\n",
        "\n",
        "    # Get product details\n",
        "    recommendations = products[products['id'].isin(recommended_product_ids)][['id', 'name', 'price']]\n",
        "    recommendations = recommendations.rename(columns={'id': 'product_id'})\n",
        "\n",
        "    return recommendations"
      ],
      "metadata": {
        "id": "WuJlkwp2qfqf"
      },
      "execution_count": 22,
      "outputs": []
    },
    {
      "cell_type": "code",
      "source": [
        "# Example usage\n",
        "try:\n",
        "    example_customer_id = customers['id'].iloc[3]  # First customer ID\n",
        "    print(f\"Recommendations for Customer {example_customer_id}:\")\n",
        "    recommendations = recommend_products(example_customer_id)\n",
        "    print(recommendations)\n",
        "    # Save recommendations to CSV\n",
        "    recommendations.to_csv('/content/drive/MyDrive/Sprints/Eyouth/ecommerce/recommendations.csv', index=False)\n",
        "    print(\"Recommendations saved to '/content/drive/MyDrive/Sprints/Eyouth/ecommerce/recommendations.csv'\")\n",
        "except IndexError:\n",
        "    print(\"No customers found in customers.csv\")"
      ],
      "metadata": {
        "colab": {
          "base_uri": "https://localhost:8080/"
        },
        "id": "2ynxtlQfqn1K",
        "outputId": "228b386f-1722-4fb3-f790-d8456e9fba87"
      },
      "execution_count": 24,
      "outputs": [
        {
          "output_type": "stream",
          "name": "stdout",
          "text": [
            "Recommendations for Customer 4:\n",
            "    product_id                                        name   price\n",
            "16          17           Streamlined multi-state groupware  548.72\n",
            "39          40                  Up-sized 24hour moratorium  442.83\n",
            "41          42  Profit-focused dedicated Internet solution  712.00\n",
            "59          60     Vision-oriented well-modulated database  312.33\n",
            "62          63              Synchronized systemic firmware  619.69\n",
            "Recommendations saved to '/content/drive/MyDrive/Sprints/Eyouth/ecommerce/recommendations.csv'\n"
          ]
        }
      ]
    },
    {
      "cell_type": "code",
      "source": [],
      "metadata": {
        "id": "07lzk2ZZrJCn"
      },
      "execution_count": null,
      "outputs": []
    }
  ]
}